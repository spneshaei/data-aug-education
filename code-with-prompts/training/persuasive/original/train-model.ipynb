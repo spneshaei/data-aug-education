{
 "cells": [
  {
   "cell_type": "code",
   "execution_count": null,
   "metadata": {},
   "outputs": [],
   "source": [
    "fold = 0"
   ]
  },
  {
   "cell_type": "code",
   "execution_count": null,
   "metadata": {},
   "outputs": [],
   "source": [
    "import pandas as pd\n",
    "\n",
    "sentence_only_with_folds_df = pd.read_csv(\"ANON\")\n",
    "print(sentence_only_with_folds_df.test_fold.unique())\n",
    "sentence_only_with_folds_df.head()"
   ]
  },
  {
   "cell_type": "code",
   "execution_count": null,
   "metadata": {},
   "outputs": [],
   "source": [
    "print(len(sentence_only_with_folds_df))\n",
    "train_df = sentence_only_with_folds_df[sentence_only_with_folds_df.test_fold != fold]\n",
    "# remove columns text-id, id, test_fold\n",
    "train_df = train_df.drop(columns=['id', 'test_fold'])\n",
    "print(len(train_df))\n",
    "train_df.head()"
   ]
  },
  {
   "cell_type": "code",
   "execution_count": null,
   "metadata": {},
   "outputs": [],
   "source": [
    "# shuffle train_df with seed 42\n",
    "train_df = train_df.sample(frac=1, random_state=42).reset_index(drop=True)\n",
    "train_df.head()"
   ]
  },
  {
   "cell_type": "code",
   "execution_count": null,
   "metadata": {},
   "outputs": [],
   "source": [
    "from simpletransformers.classification import ClassificationModel\n",
    "model = ClassificationModel('bert', 'bert-base-german-cased', num_labels=max(train_df.label) + 1, use_cuda=False, args={'output_dir': f'output-fold-{fold}', 'num_train_epochs': 3})\n",
    "model.train_model(train_df)"
   ]
  },
  {
   "cell_type": "code",
   "execution_count": null,
   "metadata": {},
   "outputs": [],
   "source": [
    "test_df = sentence_only_with_folds_df[sentence_only_with_folds_df.test_fold == fold]\n",
    "\n",
    "# find F1 score per label\n",
    "from sklearn.metrics import f1_score, balanced_accuracy_score\n",
    "import numpy as np\n",
    "\n",
    "def f1_score_per_label(y_true, y_pred):\n",
    "    return np.array([f1_score(y_true == i, y_pred == i) for i in range(max(y_true) + 1)])\n",
    "\n",
    "predictions, raw_outputs = model.predict(test_df.text.to_list())\n",
    "list_of_f1 = list(f1_score_per_label(test_df.label, predictions))\n",
    "\n",
    "overall_f1 = f1_score(test_df.label, predictions, average='weighted')\n",
    "overall_balanced_accuracy = balanced_accuracy_score(test_df.label, predictions)\n",
    "with open(f'f1-fold-{fold}.txt', 'w') as f:\n",
    "    for item in list_of_f1 + [overall_f1, overall_balanced_accuracy]:\n",
    "        f.write(\"%s\\n\" % item)"
   ]
  },
  {
   "cell_type": "code",
   "execution_count": null,
   "metadata": {},
   "outputs": [],
   "source": [
    "print(list_of_f1)"
   ]
  }
 ],
 "metadata": {
  "kernelspec": {
   "display_name": "mdev2",
   "language": "python",
   "name": "python3"
  },
  "language_info": {
   "codemirror_mode": {
    "name": "ipython",
    "version": 3
   },
   "file_extension": ".py",
   "mimetype": "text/x-python",
   "name": "python",
   "nbconvert_exporter": "python",
   "pygments_lexer": "ipython3",
   "version": "3.10.13"
  }
 },
 "nbformat": 4,
 "nbformat_minor": 2
}
