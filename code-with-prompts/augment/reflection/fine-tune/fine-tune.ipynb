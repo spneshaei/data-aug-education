{
 "cells": [
  {
   "cell_type": "markdown",
   "metadata": {},
   "source": [
    "# Make the fine-tuning file"
   ]
  },
  {
   "cell_type": "code",
   "execution_count": null,
   "metadata": {},
   "outputs": [],
   "source": [
    "fold = 0"
   ]
  },
  {
   "cell_type": "code",
   "execution_count": null,
   "metadata": {},
   "outputs": [],
   "source": [
    "import pandas as pd\n",
    "\n",
    "main_df = pd.read_csv(\"ANON\")\n",
    "# only get the rows with test_fold != fold\n",
    "df = main_df[main_df.test_fold != fold]\n",
    "\n",
    "df.head() # columns: text-id, text, label, id, test_fold"
   ]
  },
  {
   "cell_type": "code",
   "execution_count": null,
   "metadata": {},
   "outputs": [],
   "source": [
    "# shuffle the rows with 42\n",
    "df = df.sample(frac=1, random_state=42)"
   ]
  },
  {
   "cell_type": "code",
   "execution_count": null,
   "metadata": {},
   "outputs": [],
   "source": [
    "MAPPING = {\n",
    "    0: \"Description\",\n",
    "    1: \"Feelings\",\n",
    "    2: \"Evaluation\",\n",
    "    3: \"Analysis\",\n",
    "    4: \"Conclusion\",\n",
    "    5: \"Action Plan\"\n",
    "}\n",
    "\n",
    "developer_prompt = \"You are an expert in the Gibbs reflective cycle. The components of the Gibbs reflective cycle are: Description, Feelings, Evaluation, Analysis, Conclusion, and Action Plan. Description refers describing to the event or experience you are reflecting on. Feelings refers to your emotions during the event or experience. Evaluation refers to your thoughts about the event or experience, providing positive and negative aspects on what happened. Analysis refers to your understanding of the event or experience, providing reasons behind points mentioned in the Evaluation aspect. Conclusion refers to what you learned from the event or experience. Action Plan refers to what you would do differently in the future (next time). Always respond in German.\"\n",
    "\n",
    "final_jsonl_data = []\n",
    "for index, row in df.iterrows():\n",
    "    final_jsonl_data.append({\"messages\": [{\"role\": \"system\", \"content\": developer_prompt}, {\"role\": \"user\", \"content\": \"Please output a reflective sentence that belongs to the \" + MAPPING[row[\"label\"]] + \" component of the Gibbs reflective cycle. Just output the sentence and nothing else. Respond in German.\"}, {\"role\": \"assistant\", \"content\": row[\"text\"]}]})\n",
    "\n",
    "import jsonl\n",
    "jsonl.dump(final_jsonl_data, f\"jsonl-gpt-fold-{fold}.jsonl\")\n",
    "        \n"
   ]
  },
  {
   "cell_type": "markdown",
   "metadata": {},
   "source": [
    "### Upload"
   ]
  },
  {
   "cell_type": "code",
   "execution_count": null,
   "metadata": {},
   "outputs": [],
   "source": [
    "import openai\n",
    "from openai import OpenAI\n",
    "\n",
    "with open(\"../../../api_key.txt\", \"r\") as f:\n",
    "    api_key = f.read().strip()\n",
    "\n",
    "openai.api_key = api_key\n",
    "openai_client = OpenAI(api_key=api_key)\n",
    "\n",
    "job = openai_client.fine_tuning.jobs.create(\n",
    "    training_file=\"jsonl-fold-0.jsonl\",\n",
    "    model=\"gpt-3.5-turbo-0125\",\n",
    "    # method={\n",
    "    #     \"type\": \"dpo\",\n",
    "    #     \"dpo\": {\n",
    "    #         \"hyperparameters\": {\"beta\": 0.1},\n",
    "    #     },\n",
    "    # },\n",
    ")"
   ]
  },
  {
   "cell_type": "code",
   "execution_count": null,
   "metadata": {},
   "outputs": [],
   "source": [
    "client.fine_tuning.jobs.retrieve(\"ftjob-abc123\")"
   ]
  },
  {
   "cell_type": "markdown",
   "metadata": {},
   "source": [
    "# Augment Data with the Fine-tuned Model"
   ]
  },
  {
   "cell_type": "code",
   "execution_count": null,
   "metadata": {},
   "outputs": [],
   "source": [
    "# find label count distribution and store it as a dict\n",
    "label_count = df['label'].value_counts().to_dict()\n",
    "label_count"
   ]
  },
  {
   "cell_type": "code",
   "execution_count": null,
   "metadata": {},
   "outputs": [],
   "source": [
    "# Find the maximum label count\n",
    "max_label_count = max(label_count.values())\n",
    "\n",
    "# Calculate the difference needed for each class to reach the maximum count\n",
    "label_count_diff = {label: max_label_count - count for label, count in label_count.items()}\n",
    "\n",
    "label_count_diff"
   ]
  },
  {
   "cell_type": "code",
   "execution_count": null,
   "metadata": {},
   "outputs": [],
   "source": [
    "# find how many augmentations should we do per sentence, by dividing the count diff by the number of sentences already in that class\n",
    "augmentation_count_needed = {label: diff // count for label, diff, count in zip(label_count.keys(), label_count_diff.values(), label_count.values())}\n",
    "augmentation_count_needed"
   ]
  },
  {
   "cell_type": "code",
   "execution_count": null,
   "metadata": {},
   "outputs": [],
   "source": [
    "MAPPING = {\n",
    "    0: \"Description\",\n",
    "    1: \"Feelings\",\n",
    "    2: \"Evaluation\",\n",
    "    3: \"Analysis\",\n",
    "    4: \"Conclusion\",\n",
    "    5: \"Action Plan\"\n",
    "}\n",
    "\n",
    "developer_prompt = \"You are an expert in the Gibbs reflective cycle. The components of the Gibbs reflective cycle are: Description, Feelings, Evaluation, Analysis, Conclusion, and Action Plan. Description refers describing to the event or experience you are reflecting on. Feelings refers to your emotions during the event or experience. Evaluation refers to your thoughts about the event or experience, providing positive and negative aspects on what happened. Analysis refers to your understanding of the event or experience, providing reasons behind points mentioned in the Evaluation aspect. Conclusion refers to what you learned from the event or experience. Action Plan refers to what you would do differently in the future (next time). Always respond in German.\""
   ]
  },
  {
   "cell_type": "code",
   "execution_count": null,
   "metadata": {},
   "outputs": [],
   "source": [
    "import openai\n",
    "from openai import OpenAI\n",
    "import backoff\n",
    "\n",
    "with open(\"../../../api_key.txt\", \"r\") as f:\n",
    "    api_key = f.read().strip()\n",
    "\n",
    "openai.api_key = api_key\n",
    "openai_client = OpenAI(api_key=api_key)\n",
    "\n",
    "@backoff.on_exception(backoff.expo, openai.OpenAIError, max_time=120)\n",
    "def return_sentence_from_openai(class_name, temperature = 0.5):\n",
    "    global openai_client\n",
    "    response = openai_client.chat.completions.create(\n",
    "        model=\"ANON\",\n",
    "        messages=[\n",
    "            {\"role\": \"system\", \"content\": developer_prompt},\n",
    "            {\"role\": \"user\", \"content\": \"Please output a reflective sentence that belongs to the \" + class_name + \" component of the Gibbs reflective cycle. Just output the sentence and nothing else. Respond in German.\"}\n",
    "        ],\n",
    "        temperature=temperature\n",
    "    )\n",
    "    return response.choices[0].message.content\n",
    "\n",
    "\n",
    "return_sentence_from_openai(\"Action Plan\")"
   ]
  },
  {
   "cell_type": "code",
   "execution_count": null,
   "metadata": {},
   "outputs": [],
   "source": [
    "from tqdm import tqdm\n",
    "\n",
    "sentences = [] # {index: XX, text: XX, label: XX}\n",
    "\n",
    "with tqdm(total=len(df)) as pbar:\n",
    "    for index, row in df.iterrows():\n",
    "        for i in range(augmentation_count_needed[row[\"label\"]]):\n",
    "            mapping_label_text = MAPPING[row[\"label\"]]\n",
    "            sentence = return_sentence_from_openai(mapping_label_text)\n",
    "            sentences.append({\"index\": index, \"text\": sentence, \"label\": row[\"label\"]})\n",
    "        pbar.update(1)\n",
    "\n",
    "        \n"
   ]
  },
  {
   "cell_type": "code",
   "execution_count": null,
   "metadata": {},
   "outputs": [],
   "source": [
    "# make a new dataframe id,text-id,text,label,original_id,test_fold, by using the df we had in the beginning\n",
    "result_df = pd.DataFrame(columns=[\"id\", \"text\", \"label\", \"original_id\", \"test_fold\"])\n",
    "\n",
    "index_of_sentence = 0\n",
    "with tqdm(total=len(df)) as pbar:\n",
    "    for index, row in df.iterrows():\n",
    "        for i in range(augmentation_count_needed[row[\"label\"]]):\n",
    "            sentence = sentences[index_of_sentence][\"text\"]\n",
    "            new_row = {\n",
    "                \"id\": f\"augmented-{row['id']}-{i}\",\n",
    "                # \"text-id\": row[\"text-id\"],\n",
    "                \"text\": sentence,\n",
    "                \"label\": row[\"label\"],\n",
    "                \"original_id\": row[\"id\"],\n",
    "                \"test_fold\": row[\"test_fold\"]\n",
    "            }\n",
    "            result_df = pd.concat([result_df, pd.DataFrame([new_row])], ignore_index=True)\n",
    "            index_of_sentence += 1\n",
    "\n",
    "result_df.head()"
   ]
  },
  {
   "cell_type": "code",
   "execution_count": null,
   "metadata": {},
   "outputs": [],
   "source": [
    "result_df.to_csv(f\"fine-tune-fold-{fold}-outputs.csv\", index=False)"
   ]
  }
 ],
 "metadata": {
  "kernelspec": {
   "display_name": "mdev2",
   "language": "python",
   "name": "python3"
  },
  "language_info": {
   "codemirror_mode": {
    "name": "ipython",
    "version": 3
   },
   "file_extension": ".py",
   "mimetype": "text/x-python",
   "name": "python",
   "nbconvert_exporter": "python",
   "pygments_lexer": "ipython3",
   "version": "3.10.13"
  }
 },
 "nbformat": 4,
 "nbformat_minor": 2
}
