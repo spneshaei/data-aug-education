{
 "cells": [
  {
   "cell_type": "code",
   "execution_count": null,
   "metadata": {},
   "outputs": [],
   "source": [
    "import pandas as pd\n",
    "\n",
    "fold = 0\n",
    "\n",
    "df = pd.read_csv(f\"fifth-round-fold-{fold}.csv\")\n",
    "df.head()"
   ]
  },
  {
   "cell_type": "code",
   "execution_count": null,
   "metadata": {},
   "outputs": [],
   "source": [
    "MAPPING = {\n",
    "    0: \"Evidence\",\n",
    "    1: \"Claim\",\n",
    "    2: \"Concluding Statement\",\n",
    "    3: \"Lead\",\n",
    "    4: \"Position\",\n",
    "    5: \"Counterclaim\",\n",
    "    6: \"Rebuttal\"\n",
    "}\n",
    "\n",
    "developer_prompt = \"You are an expert in analyzing persuasive essays and understanding argumentative and discourse elements. The discourse elements are: Lead, Position, Claim, Counterclaim, Rebuttal, Evidence, and Concluding Statement. Lead refers to an introduction that begins with a statistic, a quotation, a description, or some other device to grab the reader's attention and point toward the thesis. Position refers to an opinion or conclusion on the main question. Claim refers to a claim that supports the position. Counterclaim refers to a claim that refutes another claim or gives an opposing reason to the position. Rebuttal refers to a claim that refutes a counterclaim. Evidence refers to ideas or examples that support claims, counterclaims, rebuttals, or the position. Concluding statement refers to a concluding statement that restates the position and claims.\"\n",
    "\n",
    "final_jsonl_data = []\n",
    "for index, row in df.iterrows():\n",
    "    final_jsonl_data.append({\n",
    "        \"custom_id\": f\"request-{index}-id-{row['id']}\",\n",
    "        \"method\": \"POST\",\n",
    "        \"url\": \"/v1/chat/completions\",\n",
    "        \"body\": {\n",
    "            \"model\": \"gpt-4o-2024-08-06\",\n",
    "            \"messages\": [\n",
    "                {\"role\": \"system\", \"content\": developer_prompt},\n",
    "                {\"role\": \"user\", \"content\": \"Please specify the discourse element that the following sentence belongs to:\\n\\n'''\\n\" + str(row[\"text\"]) + \"\\n'''\\n\\nLet's think step by step. Respond in English. In the last line of your reply, you should just write the name of the discourse element, and nothing else.\"}\n",
    "            ],\n",
    "            \"temperature\": 0.5\n",
    "        }\n",
    "    })\n",
    "\n",
    "import jsonl\n",
    "jsonl.dump(final_jsonl_data, f\"filter-and-relabel-fold-{fold}.jsonl\")\n",
    "\n",
    "\n"
   ]
  },
  {
   "cell_type": "code",
   "execution_count": null,
   "metadata": {},
   "outputs": [],
   "source": [
    "import openai\n",
    "from openai import OpenAI\n",
    "\n",
    "with open(\"../../../api_key.txt\", \"r\") as f:\n",
    "    api_key = f.read().strip()\n",
    "\n",
    "openai.api_key = api_key\n",
    "openai_client = OpenAI(api_key=api_key)\n",
    "\n",
    "def return_message_from_openai(messages, temperature = 0.5):\n",
    "    global openai_client\n",
    "    response = openai_client.chat.completions.create(\n",
    "        model=\"gpt-4o-2024-08-06\",\n",
    "        messages=messages,\n",
    "        temperature=temperature\n",
    "    )\n",
    "    return response.choices[0].message.content"
   ]
  },
  {
   "cell_type": "markdown",
   "metadata": {},
   "source": [
    "# Batch API"
   ]
  },
  {
   "cell_type": "code",
   "execution_count": null,
   "metadata": {},
   "outputs": [],
   "source": [
    "batch_input_file = openai_client.files.create(\n",
    "    file=open(f\"filter-and-relabel-fold-{fold}.jsonl\", \"rb\"),\n",
    "    purpose=\"batch\"\n",
    ")\n",
    "\n",
    "print(batch_input_file)"
   ]
  },
  {
   "cell_type": "code",
   "execution_count": null,
   "metadata": {},
   "outputs": [],
   "source": [
    "batch_input_file_id = batch_input_file.id\n",
    "created_batch = openai_client.batches.create(\n",
    "    input_file_id=batch_input_file_id,\n",
    "    endpoint=\"/v1/chat/completions\",\n",
    "    completion_window=\"24h\",\n",
    "    metadata={\n",
    "        \"description\": \"Filter-and-relabel Fifth Round\"\n",
    "    }\n",
    ")\n",
    "created_batch.id, created_batch.status"
   ]
  },
  {
   "cell_type": "code",
   "execution_count": null,
   "metadata": {},
   "outputs": [],
   "source": [
    "batch = openai_client.batches.retrieve(created_batch.id)\n",
    "batch.status"
   ]
  },
  {
   "cell_type": "code",
   "execution_count": null,
   "metadata": {},
   "outputs": [],
   "source": [
    "file_response = openai_client.files.content(batch.output_file_id)"
   ]
  },
  {
   "cell_type": "code",
   "execution_count": null,
   "metadata": {},
   "outputs": [],
   "source": [
    "def convert_last_line_to_class_id(last_line):\n",
    "    # search in mapping, if each key appears in the last line.lower return that\n",
    "    for key, value in MAPPING.items():\n",
    "        if value.lower() in last_line.lower():\n",
    "            return key\n",
    "    return 0\n",
    "\n",
    "convert_last_line_to_class_id(\"Hi descRiption hey\")"
   ]
  },
  {
   "cell_type": "code",
   "execution_count": null,
   "metadata": {},
   "outputs": [],
   "source": [
    "import json\n",
    "\n",
    "# make a new dataframe id,text-id,text,label,original_id,test_fold, by using the df we had in the beginning\n",
    "result_df = pd.DataFrame(columns=[\"id\", \"text\", \"new_label\", \"original_label\", \"original_id\"])\n",
    "\n",
    "for line in file_response.text.split(\"\\n\"):\n",
    "    if line:\n",
    "        data = json.loads(line)\n",
    "        last_line = data[\"response\"][\"body\"][\"choices\"][0][\"message\"][\"content\"].split(\"\\n\")[-1]\n",
    "        gpt_determined_class_id = convert_last_line_to_class_id(last_line)\n",
    "        code_to_find = data[\"custom_id\"].split(\"id-request\")[-1]\n",
    "        df_row_with_id = df[df[\"id\"].str.contains(code_to_find)]\n",
    "        new_row = {\n",
    "            \"id\": data[\"custom_id\"],\n",
    "            \"text\": df_row_with_id[\"text\"].values[0],\n",
    "            \"new_label\": gpt_determined_class_id,\n",
    "            \"original_label\": df_row_with_id[\"label\"].values[0],\n",
    "            \"original_id\": data[\"custom_id\"]\n",
    "            # \"test_fold\": df_row_with_id[\"test_fold\"].values[0]\n",
    "        }\n",
    "        result_df = pd.concat([result_df, pd.DataFrame([new_row])], ignore_index=True)\n",
    "\n",
    "result_df.head()"
   ]
  },
  {
   "cell_type": "code",
   "execution_count": null,
   "metadata": {},
   "outputs": [],
   "source": [
    "# find rows in which new_label is not equal to original_label\n",
    "len(result_df), len(result_df[result_df[\"new_label\"] != result_df[\"original_label\"]])"
   ]
  },
  {
   "cell_type": "code",
   "execution_count": null,
   "metadata": {},
   "outputs": [],
   "source": [
    "result_df.to_csv(f\"filter-and-relabel-fold-{fold}-outputs.csv\", index=False)"
   ]
  },
  {
   "cell_type": "code",
   "execution_count": null,
   "metadata": {},
   "outputs": [],
   "source": []
  }
 ],
 "metadata": {
  "kernelspec": {
   "display_name": "mdev2",
   "language": "python",
   "name": "python3"
  },
  "language_info": {
   "codemirror_mode": {
    "name": "ipython",
    "version": 3
   },
   "file_extension": ".py",
   "mimetype": "text/x-python",
   "name": "python",
   "nbconvert_exporter": "python",
   "pygments_lexer": "ipython3",
   "version": "3.10.13"
  }
 },
 "nbformat": 4,
 "nbformat_minor": 2
}
