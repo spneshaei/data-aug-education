{
 "cells": [
  {
   "cell_type": "code",
   "execution_count": 2,
   "metadata": {},
   "outputs": [],
   "source": [
    "import pandas as pd\n",
    "for fold in range(0, 5):\n",
    "    df = pd.read_csv(f\"cot-of-wrong-guesses-dissimilarity-of-cot-fold-{fold}.csv\")\n",
    "    # replace the value of text column with the LAST LINE of the text column, then save it again\n",
    "    df['text'] = df['text'].apply(lambda x: x.strip().split('\\n')[-1])\n",
    "    df.to_csv(f\"cot-of-wrong-guesses-dissimilarity-of-cot-fold-{fold}.csv\", index=False)"
   ]
  }
 ],
 "metadata": {
  "kernelspec": {
   "display_name": "mdev2",
   "language": "python",
   "name": "python3"
  },
  "language_info": {
   "codemirror_mode": {
    "name": "ipython",
    "version": 3
   },
   "file_extension": ".py",
   "mimetype": "text/x-python",
   "name": "python",
   "nbconvert_exporter": "python",
   "pygments_lexer": "ipython3",
   "version": "3.10.13"
  }
 },
 "nbformat": 4,
 "nbformat_minor": 2
}
